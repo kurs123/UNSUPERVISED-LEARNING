{
 "cells": [
  {
   "cell_type": "code",
   "execution_count": 7,
   "id": "3ec04afc",
   "metadata": {},
   "outputs": [],
   "source": [
    "import numpy as np\n",
    "import pandas as pd"
   ]
  },
  {
   "cell_type": "code",
   "execution_count": 8,
   "id": "1c870caa",
   "metadata": {},
   "outputs": [],
   "source": [
    "cars=pd.read_csv(r\"C:\\Users\\Deepak pani\\Downloads\\praxis\\IML classes\\cars.csv\")"
   ]
  },
  {
   "cell_type": "code",
   "execution_count": null,
   "id": "69e522e0",
   "metadata": {},
   "outputs": [],
   "source": []
  },
  {
   "cell_type": "code",
   "execution_count": 9,
   "id": "5468c986",
   "metadata": {},
   "outputs": [],
   "source": [
    "#shuffling the observations in the dataset cars\n",
    "data=cars.sample(len(cars))"
   ]
  },
  {
   "cell_type": "markdown",
   "id": "93ccb0d9",
   "metadata": {},
   "source": [
    "Slicing the data into two datasets : train and test "
   ]
  },
  {
   "cell_type": "code",
   "execution_count": 26,
   "id": "0ce37932",
   "metadata": {},
   "outputs": [],
   "source": [
    "#slicing the first 350 observations of the shuffled data and naming the dataset as train\n",
    "train=data.iloc[:350,:]\n"
   ]
  },
  {
   "cell_type": "code",
   "execution_count": 11,
   "id": "c05bf81e",
   "metadata": {},
   "outputs": [],
   "source": [
    "#taking the remaining obseravtions of the shuffled data and naming the dataset as test\n",
    "\n",
    "test=data.iloc[350:,:]\n"
   ]
  },
  {
   "cell_type": "code",
   "execution_count": null,
   "id": "d2832cde",
   "metadata": {},
   "outputs": [],
   "source": []
  },
  {
   "cell_type": "code",
   "execution_count": 12,
   "id": "c89a1eb0",
   "metadata": {},
   "outputs": [],
   "source": [
    "#taking the target variable as MPG \n",
    "y_train=train.MPG #from train dataset\n",
    "y_test=test.MPG   #from test dataset"
   ]
  },
  {
   "cell_type": "code",
   "execution_count": 13,
   "id": "00f49ada",
   "metadata": {},
   "outputs": [],
   "source": [
    "#taking the predictors as Weight,horsepower,displacement\n",
    "X_train=train[[\"Weight\",\"Horsepower\",\"Displacement\"]] #from train dataset\n",
    "X_test=test[[\"Weight\",\"Horsepower\",\"Displacement\"]]   #from test dataset"
   ]
  },
  {
   "cell_type": "markdown",
   "id": "ad68d06c",
   "metadata": {},
   "source": [
    "\n",
    "                              "
   ]
  },
  {
   "cell_type": "code",
   "execution_count": 24,
   "id": "292f16c2",
   "metadata": {},
   "outputs": [],
   "source": [
    "#standardising the predictors \n",
    "\n",
    "X_train=(X_train-X_train.mean())/X_train.std()  #standardised X_train\n",
    "X_test=(X_test-X_test.mean())/X_test.std()  #standardised X_test"
   ]
  },
  {
   "cell_type": "code",
   "execution_count": 25,
   "id": "7b8ab603",
   "metadata": {},
   "outputs": [
    {
     "data": {
      "text/plain": [
       "Weight          0.271363\n",
       "Horsepower     -0.618405\n",
       "Displacement   -0.406855\n",
       "Name: 368, dtype: float64"
      ]
     },
     "execution_count": 25,
     "metadata": {},
     "output_type": "execute_result"
    }
   ],
   "source": [
    "#taking the X_star(i.e., the vector for which to find the target variable)\n",
    "X_star=X_test.iloc[0,]\n",
    "X_star"
   ]
  },
  {
   "cell_type": "markdown",
   "id": "56b0fa75",
   "metadata": {},
   "source": [
    "**BELOW is a function KNN which takes 3 arguments X_star,X_train(which are standardized) and y_train.**\n",
    "\n",
    "**It returns the predicted value of y for X_star.**"
   ]
  },
  {
   "cell_type": "code",
   "execution_count": null,
   "id": "97b3a386",
   "metadata": {},
   "outputs": [],
   "source": [
    "def KNN(X_star,X_train,y_train):\n",
    "    mindist=10e10 #setting mindist to a high value\n",
    "    obs=0\n",
    "    for i in range(len(X_train)): #looping through all the vectors in X_train  \n",
    "        \n",
    "        #calculating distance between X_star and vector from X_train\n",
    "        d=np.sqrt(np.transpose(X_star-X_train.iloc[i])@(X_star-X_train.iloc[i]))  \n",
    "        if d<mindist:\n",
    "            mindist=d\n",
    "            \n",
    "            #recording the observation value of X_train which is the nearest neighbour to X_star.\n",
    "            obs_value=i \n",
    "    #getting the predicted value for X_star.\n",
    "    y=y_train.iloc[obs_value]\n",
    "    \n",
    "    return(y)"
   ]
  },
  {
   "cell_type": "code",
   "execution_count": null,
   "id": "26d3fb02",
   "metadata": {},
   "outputs": [],
   "source": []
  },
  {
   "cell_type": "markdown",
   "id": "30df571c",
   "metadata": {},
   "source": [
    "**Below is a function KNN_V2 which takes 4 arguments X_test,X_train(which are standardized) y_train and y_test**\n",
    "\n",
    "**It returns a dixtionary with 2 keys:'Predicted values'&'MAD'**\n",
    "\n",
    "Predicted values key holds a numpy array with all predicted values of y for each vector X_test.\n",
    "MAD key holds the value of Mean absolute Deviation."
   ]
  },
  {
   "cell_type": "code",
   "execution_count": null,
   "id": "0855ccca",
   "metadata": {},
   "outputs": [],
   "source": [
    "def KNN_v2(X_test,X_train,y_train,y_test):\n",
    "    l=[]\n",
    "    dict={}\n",
    "    MAD=0\n",
    "    for i in range(len(X_test)):  #going through every row of X_test \n",
    "        X_star=X_test.iloc[i]     #taking each row as X_star\n",
    "        p_value=KNN(X_star,X_train,y_train)   # getting the predicted value of y for X_star through function-KNN\n",
    "        l.append(p_value)                     # appending the predicted value into the list l\n",
    "        \n",
    "        #calculating MAD= sigma(y(i)-ycap(i))/n\n",
    "        actual_value=y_test.iloc[i]\n",
    "        \n",
    "        \n",
    "        MAD+=(abs(actual_value-p_value))/len(y_test)\n",
    "    #when the loop ends list l contains all the predicted values of y for all the X_star vectors\n",
    "    #the variable MAD will contain the mean absolute deviation.\n",
    "        \n",
    "    dict[\"Predicted values\"]=np.array(l)    \n",
    "    dict[\"MAD\"]=MAD\n",
    "    \n",
    "    return(dict)"
   ]
  },
  {
   "cell_type": "code",
   "execution_count": null,
   "id": "2a69ff6c",
   "metadata": {},
   "outputs": [],
   "source": []
  },
  {
   "cell_type": "code",
   "execution_count": null,
   "id": "80021f51",
   "metadata": {},
   "outputs": [],
   "source": []
  }
 ],
 "metadata": {
  "kernelspec": {
   "display_name": "Python 3",
   "language": "python",
   "name": "python3"
  },
  "language_info": {
   "codemirror_mode": {
    "name": "ipython",
    "version": 3
   },
   "file_extension": ".py",
   "mimetype": "text/x-python",
   "name": "python",
   "nbconvert_exporter": "python",
   "pygments_lexer": "ipython3",
   "version": "3.8.8"
  }
 },
 "nbformat": 4,
 "nbformat_minor": 5
}
